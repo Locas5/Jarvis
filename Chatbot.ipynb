{
 "cells": [
  {
   "cell_type": "code",
   "execution_count": null,
   "metadata": {},
   "outputs": [],
   "source": []
  },
  {
   "cell_type": "markdown",
   "metadata": {},
   "source": [
    "## Listen and Recognize"
   ]
  },
  {
   "cell_type": "markdown",
   "metadata": {},
   "source": [
    "In this section,.we will fist give our chatbot the ability to listen and recognize what we said."
   ]
  },
  {
   "cell_type": "code",
   "execution_count": 1,
   "metadata": {},
   "outputs": [],
   "source": [
    "#speech recognition library\n",
    "import speech_recognition"
   ]
  },
  {
   "cell_type": "code",
   "execution_count": 6,
   "metadata": {},
   "outputs": [],
   "source": [
    "#define a speech recognizer\n",
    "r = speech_recognition.Recognizer()"
   ]
  },
  {
   "cell_type": "code",
   "execution_count": 20,
   "metadata": {},
   "outputs": [],
   "source": [
    "#give our chatbot ability to listen\n",
    "\n",
    "def listen():\n",
    "    #receive voice from microphone\n",
    "    with speech_recognition.Microphone() as source:\n",
    "\n",
    "        #adjust for noise effect\n",
    "        r.adjust_for_ambient_noise(source)\n",
    "\n",
    "        #listen to the phrases and extract it into audio data\n",
    "        audio = r.listen(source)\n",
    "\n",
    "    #recognize the audio and output the text\n",
    "    return r.recognize_google(audio, language = 'en-US')"
   ]
  },
  {
   "cell_type": "markdown",
   "metadata": {},
   "source": [
    "## Speak"
   ]
  },
  {
   "cell_type": "markdown",
   "metadata": {},
   "source": [
    "In this section, we will try to make a demo function to make our chatbot speak."
   ]
  },
  {
   "cell_type": "code",
   "execution_count": 13,
   "metadata": {},
   "outputs": [
    {
     "name": "stdout",
     "output_type": "stream",
     "text": [
      "pygame 1.9.4\n",
      "Hello from the pygame community. https://www.pygame.org/contribute.html\n"
     ]
    }
   ],
   "source": [
    "#store output audio as temporary files\n",
    "import tempfile\n",
    "\n",
    "#text to audio\n",
    "from gtts import gTTS\n",
    "\n",
    "#play audio in notebook\n",
    "from pygame import mixer\n",
    "mixer.init()"
   ]
  },
  {
   "cell_type": "code",
   "execution_count": 15,
   "metadata": {},
   "outputs": [],
   "source": [
    "#define speak function\n",
    "def speak(sentence):\n",
    "    #save the audio generated as a tempfile and delete it as function close\n",
    "    with tempfile.NamedTemporaryFile(delete = True) as fp:\n",
    "        #text to audio\n",
    "        tts = gTTS(text = sentence, lang = 'en')\n",
    "        \n",
    "        #generate the temporary audio\n",
    "        tts.save(\"{}.mp3\".format(fp.name))\n",
    "        \n",
    "        #load the audio into mixer\n",
    "        mixer.music.load(\"{}.mp3\".format(fp.name))\n",
    "        \n",
    "        #play the audio\n",
    "        mixer.music.play()"
   ]
  },
  {
   "cell_type": "code",
   "execution_count": 18,
   "metadata": {},
   "outputs": [],
   "source": [
    "#function test\n",
    "speak('Hello there, my name is Jarvis')"
   ]
  },
  {
   "cell_type": "markdown",
   "metadata": {},
   "source": [
    "#### make chatbot repeat what I said"
   ]
  },
  {
   "cell_type": "code",
   "execution_count": 24,
   "metadata": {},
   "outputs": [],
   "source": [
    "#chatbot repeats what it heard from microphone\n",
    "speak(listen())"
   ]
  },
  {
   "cell_type": "markdown",
   "metadata": {},
   "source": [
    "## Chatbot core"
   ]
  },
  {
   "cell_type": "code",
   "execution_count": 36,
   "metadata": {},
   "outputs": [],
   "source": [
    "#Design Question and Answer dictionary\n",
    "qa = {\n",
    "    \"hi\":\"hello there\",\n",
    "    \"hello\":\"hi, how are you\",\n",
    "    \"what is your name?\":\"my name is Jarvis\",\n",
    "    \"how are you\":\"I am great, how about you\",\n",
    "    \"tell me a joke\":\"What did the left eye say to the right eye? Between you and me, something smells.\"  \n",
    "}"
   ]
  },
  {
   "cell_type": "code",
   "execution_count": 38,
   "metadata": {},
   "outputs": [],
   "source": [
    "#answer a simple question using dictionary created\n",
    "speak(qa.get(listen(),\"sorry, i am still learning how to speak, i will speak with you when i get smarter\"))"
   ]
  },
  {
   "cell_type": "code",
   "execution_count": null,
   "metadata": {},
   "outputs": [],
   "source": []
  },
  {
   "cell_type": "code",
   "execution_count": null,
   "metadata": {},
   "outputs": [],
   "source": []
  },
  {
   "cell_type": "code",
   "execution_count": null,
   "metadata": {},
   "outputs": [],
   "source": []
  },
  {
   "cell_type": "code",
   "execution_count": null,
   "metadata": {},
   "outputs": [],
   "source": []
  },
  {
   "cell_type": "code",
   "execution_count": null,
   "metadata": {},
   "outputs": [],
   "source": []
  }
 ],
 "metadata": {
  "kernelspec": {
   "display_name": "Python 3",
   "language": "python",
   "name": "python3"
  },
  "language_info": {
   "codemirror_mode": {
    "name": "ipython",
    "version": 3
   },
   "file_extension": ".py",
   "mimetype": "text/x-python",
   "name": "python",
   "nbconvert_exporter": "python",
   "pygments_lexer": "ipython3",
   "version": "3.7.1"
  }
 },
 "nbformat": 4,
 "nbformat_minor": 2
}
